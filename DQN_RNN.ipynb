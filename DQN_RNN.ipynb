{
  "nbformat": 4,
  "nbformat_minor": 0,
  "metadata": {
    "kernelspec": {
      "name": "python3",
      "display_name": "Python 3"
    },
    "language_info": {
      "codemirror_mode": {
        "name": "ipython",
        "version": 3
      },
      "file_extension": ".py",
      "mimetype": "text/x-python",
      "name": "python",
      "nbconvert_exporter": "python",
      "pygments_lexer": "ipython3",
      "version": "3.7.4"
    },
    "colab": {
      "name": "DQN_RNN.ipynb",
      "provenance": [],
      "collapsed_sections": [],
      "machine_shape": "hm"
    },
    "accelerator": "GPU"
  },
  "cells": [
    {
      "cell_type": "code",
      "metadata": {
        "id": "vjpbgm-GyPEI",
        "colab_type": "code",
        "colab": {}
      },
      "source": [
        "#Dominic Zhao"
      ],
      "execution_count": 0,
      "outputs": []
    },
    {
      "cell_type": "code",
      "metadata": {
        "id": "mpNIxy6N0k-e",
        "colab_type": "code",
        "colab": {}
      },
      "source": [
        "%tensorflow_version 2.x"
      ],
      "execution_count": 0,
      "outputs": []
    },
    {
      "cell_type": "code",
      "metadata": {
        "id": "dnkTEoJYyPEM",
        "colab_type": "code",
        "outputId": "ca59243b-8bdf-4bee-c03e-d9af6c74a631",
        "colab": {
          "base_uri": "https://localhost:8080/",
          "height": 33
        }
      },
      "source": [
        "import tensorflow as tf\n",
        "import numpy as np\n",
        "import pandas as pd\n",
        "import gym\n",
        "print(\"ok\")\n",
        "from collections import deque"
      ],
      "execution_count": 131,
      "outputs": [
        {
          "output_type": "stream",
          "text": [
            "ok\n"
          ],
          "name": "stdout"
        }
      ]
    },
    {
      "cell_type": "markdown",
      "metadata": {
        "id": "IF_cUPbyyPEP",
        "colab_type": "text"
      },
      "source": [
        "Preprocessing the pixel inputs (as specified in the paper). the raw atari frames are 210 to 160 pixels. We down-sample it to 110x84 images and grey scale."
      ]
    },
    {
      "cell_type": "code",
      "metadata": {
        "id": "dekJO2o5yPEQ",
        "colab_type": "code",
        "colab": {}
      },
      "source": [
        "def grayscale(image):\n",
        "    # take the mean along rbg values to get one output which is the grayscale, no each pixel has \n",
        "    #one value on the gray scale \n",
        "    #find a way to store it more efficiently, when its in uint8 we have some problems with fit_batcg\n",
        "    return np.mean(image,axis=2).astype(np.uint8)\n",
        "\n",
        "def downsample(image):\n",
        "    #for each 2 pixel, we take one (getting rid of half the pixels)\n",
        "    return (image[::2,::2])\n",
        "def preprocess(image):\n",
        "    #since we are going to use convolutions, we also want to reshape to add a last dimension (channels)\n",
        "    #if only one image per stack, we need to expand dims\n",
        "    return grayscale(downsample(image))"
      ],
      "execution_count": 0,
      "outputs": []
    },
    {
      "cell_type": "markdown",
      "metadata": {
        "id": "p6CFeC5DyPES",
        "colab_type": "text"
      },
      "source": [
        "As explained in the DQN paper, the reward is changed to the sign of the reward (+1, -1 or 0)"
      ]
    },
    {
      "cell_type": "code",
      "metadata": {
        "id": "Jh2cQ134yPET",
        "colab_type": "code",
        "colab": {}
      },
      "source": [
        "\n",
        "def transform_reward(reward):\n",
        "    return np.sign(reward)"
      ],
      "execution_count": 0,
      "outputs": []
    },
    {
      "cell_type": "markdown",
      "metadata": {
        "id": "fDI9ztTHyPEV",
        "colab_type": "text"
      },
      "source": [
        "We now create the DQN model."
      ]
    },
    {
      "cell_type": "code",
      "metadata": {
        "id": "Pu8NWnct4OgH",
        "colab_type": "code",
        "colab": {}
      },
      "source": [
        "stack_size = 4 # We stack 4 frames\n",
        "\n",
        "# Initialize deque with zero-images one array for each image\n",
        "stacked_frames  =  deque([np.zeros((105,80), dtype=np.int) for i in range(stack_size)], maxlen=4)\n",
        "\n",
        "def stack_frames(stacked_frames, state, is_new_episode):\n",
        "    # Preprocess frame\n",
        "    frame = preprocess(state)\n",
        "    if is_new_episode:\n",
        "        # Clear our stacked_frames\n",
        "        stacked_frames = deque([np.zeros((105,80), dtype=np.int) for i in range(stack_size)], maxlen=4)\n",
        "        \n",
        "        # Because we're in a new episode, copy the same frame 4x\n",
        "        stacked_frames.append(frame)\n",
        "        stacked_frames.append(frame)\n",
        "        stacked_frames.append(frame)\n",
        "        stacked_frames.append(frame)\n",
        "        \n",
        "        # Stack the frames\n",
        "        stacked_state = np.stack(stacked_frames, axis=2)\n",
        "        \n",
        "    else:\n",
        "        # Append frame to deque, automatically removes the oldest frame\n",
        "        stacked_frames.append(frame)\n",
        "\n",
        "        # Build the stacked state (first dimension specifies different frames)\n",
        "        stacked_state = np.stack(stacked_frames, axis=2) \n",
        "    \n",
        "    return stacked_state, stacked_frames"
      ],
      "execution_count": 0,
      "outputs": []
    },
    {
      "cell_type": "code",
      "metadata": {
        "id": "IMAjw7bZyPEW",
        "colab_type": "code",
        "colab": {}
      },
      "source": [
        "def fit_batch(model,gamma,start_states,actions,rewards,next_states,is_terminal,target_model):\n",
        "    '''this is one Q learning iteration. \n",
        "    To be able to have multiple output (instead of one output per action)\n",
        "    We will multiply the networks output by a mask, which is the one-hot encoded actions \n",
        "    so output will be zero unless it's an action we saw. Much faster to have one output per action.\n",
        "    params:\n",
        "    - model : the Q network\n",
        "    -gamma: discount factor\n",
        "    -start_states: np array of starting states\n",
        "    -actions: np array of one-hot encoded actions corresponding to the start-states\n",
        "    -rewards: np array of rewards corresponding to start-states and actions\n",
        "    -next_states: np of array of resulting states corresponding to start states\n",
        "    -is terminal: numpy boolean array of if the resulting state is terminal\n",
        "    -possible_actions: number of possible actions, to determine for the one hot encoding\n",
        "    '''\n",
        "    actions=np.array(actions) #comes in as a tuple\n",
        "    actions_one_hot=np.array([possible_actions[choice] for choice in actions])\n",
        " \n",
        "    # predict all the Q values for each next state. we want to consider all actions so the mast is ones\n",
        "    #we use a different target model that is updated every N steps.\n",
        "    next_Q_values=target_model.predict([next_states,np.ones(actions_one_hot.shape).tolist()])\n",
        "    actions_one_hot=actions_one_hot.tolist()\n",
        "    #the model only works if the inputs are lists, weirdly\n",
        "    \n",
        "    #all the Q values for all the next_states, at all the possible actions\n",
        "    # if the resulting state is terminal, the Q value is 0 by definition\n",
        "    next_Q_values[is_terminal]=0\n",
        "    #reward+gamma*max of next state Q value\n",
        "    # in the case, if terminal, Q_value is just r\n",
        "    #in the paper, Q_values correspond to y, the targets\n",
        "    Q_values=rewards+gamma*np.max(next_Q_values,axis=1)\n",
        "   \n",
        "\n",
        "    # we perform a gradient descent step on (y-Q)^2, Q being the output of our current Q network\n",
        "    #multiply target by action to only consider the actions we chose, since in the algo the chosen action\n",
        "    model.fit([start_states,actions_one_hot],actions_one_hot*Q_values[:,None], epochs=1, batch_size=len(start_states),verbose=0)\n",
        "    \n",
        "    #Since the input only has a size of len(start_states), this fit function only does one step."
      ],
      "execution_count": 0,
      "outputs": []
    },
    {
      "cell_type": "code",
      "metadata": {
        "id": "RP3IA-mRyPEY",
        "colab_type": "code",
        "colab": {}
      },
      "source": [
        "def atari_model(n_actions):\n",
        "    # Shape of the input and number of chanels (height ,width ,channels)\n",
        "    # Since we preprocessed the pixels are divided by 2\n",
        "    SHAPE=(105,80,4)  #stack of 4 windows\n",
        "    SHAPE2=(n_actions,)\n",
        "    #defining 2 inputs for the keras model. Eventually we will have a custom neural net so this won't be need\n",
        "    # for the inputs we have the image and the one hot actions mask\n",
        "    frames_inputs=tf.keras.layers.Input(SHAPE,name=\"frames\")\n",
        "    actions_input=tf.keras.layers.Input(SHAPE2, name=\"mask\")\n",
        "    #normalize the frames input\n",
        "    normalized=tf.keras.layers.Lambda(lambda x: x/255.0)(frames_inputs)\n",
        "    #The first layer is 16 filters, with kernel of size 8x8, with stride of 4, relu\n",
        "    conv_1=tf.keras.layers.Conv2D(16,19,8,activation=\"relu\")(normalized)\n",
        "    #32 filters, 4x4 kernel , stride 2 , relu\n",
        "    conv_2=tf.keras.layers.Conv2D(32,8,4,activation='relu')(conv_1)\n",
        "    #reshape\n",
        "    reshaped=tf.keras.layers.Reshape((32,1))(conv_2)\n",
        "    #LSTM Layer , no flattening before\n",
        "    #dim_1 is batch_size, #dim_2 is time step #dim_3 is input dim\n",
        "    lstm=tf.keras.layers.LSTM(256,input_shape=(None,32,1))(reshaped)\n",
        "    \n",
        "    \n",
        "\n",
        "    #one single output for each action\n",
        "    output=tf.keras.layers.Dense(n_actions)(lstm)\n",
        "    #multiply by the mask\n",
        "    filtered_output=tf.keras.layers.multiply([output,actions_input])\n",
        "  \n",
        "    model = tf.keras.Model(inputs=[frames_inputs, actions_input], outputs=filtered_output)\n",
        "    optimizer=tf.keras.optimizers.RMSprop(lr=0.00025, rho=0.95, epsilon=0.01)\n",
        "    model.compile(optimizer, loss='mse')\n",
        "    return model"
      ],
      "execution_count": 0,
      "outputs": []
    },
    {
      "cell_type": "code",
      "metadata": {
        "id": "oITLVvaIyPEa",
        "colab_type": "code",
        "colab": {}
      },
      "source": [
        "def q_iteration(env,model,state,iteration,memory,stacked_frames,target_model):\n",
        "    # Choose epsilon based on the iteration\n",
        "    # follow the paper to get the epsilon schedule\n",
        "    epsilon=get_epsilon_for_iteration(iteration)\n",
        "    #choose the action \n",
        "    if np.random.random()<epsilon:\n",
        "        action=env.action_space.sample()\n",
        "        #we need to one hot encode\n",
        "        #action=possible_actions[choice].tolist()\n",
        "    else:\n",
        "        action=np.argmax(choose_best_action(model,state))\n",
        "    new_state,reward,is_done,_=env.step(action)\n",
        "\n",
        "    #We want the stacked new_state\n",
        "    new_state, stacked_frames=stack_frames(stacked_frames,new_state,False)\n",
        "\n",
        "\n",
        "    memory.add(state,action,reward,new_state,is_done)\n",
        "    # from the memory, sample a batch , and perform one step\n",
        "    batch=memory.sample_batch(32)\n",
        "    #sample_batch is of the shape (state, action, rewards,new_state, is_terminal)\n",
        "    gamma=0.99\n",
        "    #we can worry about gamma later\n",
        "    \n",
        "    #the batch arrives as a list of tuples (state,action,reward,next_state,is_done)\n",
        "    #we have to unzip\n",
        "    state_, action_, reward_, next_state_ , is_done_= tuple(zip(*batch))\n",
        "    fit_batch(model,gamma,state_,action_,reward_,next_state_,is_done_,target_model)\n",
        "    \n",
        "    return new_state, reward ,is_done , stacked_frames"
      ],
      "execution_count": 0,
      "outputs": []
    },
    {
      "cell_type": "markdown",
      "metadata": {
        "id": "ML5XChe1yPEe",
        "colab_type": "text"
      },
      "source": [
        "To implement: 1) Memory class , with add function and sample_batch(number), this is the experience replay buffer\n",
        "2)get_epsilon_for_iteration, from the schedule\n",
        "3) choose_best_action (argmax of model(state,action)"
      ]
    },
    {
      "cell_type": "code",
      "metadata": {
        "id": "_Yspw8H2yPEe",
        "colab_type": "code",
        "colab": {}
      },
      "source": [
        "class Memory():\n",
        "    def __init__(self,max_size):\n",
        "        self.buffer=deque(maxlen=max_size)\n",
        "    def add(self,state,action,reward,next_state,is_done):\n",
        "        self.buffer.append((state,action,reward,next_state,is_done))\n",
        "    def sample_batch(self,batch_size):\n",
        "        buffer_size=len(self.buffer)\n",
        "        index=np.random.choice(np.arange(buffer_size),size=batch_size,replace=False)\n",
        "        return [self.buffer[i] for i in index]\n",
        "        "
      ],
      "execution_count": 0,
      "outputs": []
    },
    {
      "cell_type": "code",
      "metadata": {
        "id": "P3Pz_ZedyPEg",
        "colab_type": "code",
        "colab": {}
      },
      "source": [
        "def instantiate_memory(max_size, pretrain_length,possible_actions,stacked_frames):\n",
        "    #pretrain_length is how much we want to populate the memory before hand.\n",
        "    #max_size is the maximum size of the memory\n",
        "    memory=Memory(max_size=max_size)\n",
        "    for i in range(pretrain_length):\n",
        "        #if it's first step\n",
        "        if i==0:\n",
        "            state=env.reset()\n",
        "            state,stacked_frames=stack_frames(stacked_frames,state,True)\n",
        "        action=np.random.randint(1,len(possible_actions))-1\n",
        "        next_state,reward,done,_=env.step(np.argmax(action))\n",
        "        next_state,stacked_frames=stack_frames(stacked_frames,next_state,False)\n",
        "        if done:\n",
        "            next_state=np.zeros(state.shape)\n",
        "            memory.add(state,action,reward,next_state,done)\n",
        "            state=env.reset()\n",
        "            #if done, it means we are dead\n",
        "            state,stacked_frames=stack_frames(stacked_frames,state,True)\n",
        "        else:\n",
        "            memory.add(state,action,reward,next_state,done)\n",
        "            state=next_state\n",
        "            #now we can do another loop\n",
        "    return memory"
      ],
      "execution_count": 0,
      "outputs": []
    },
    {
      "cell_type": "code",
      "metadata": {
        "id": "Z_vc8HdyyPEi",
        "colab_type": "code",
        "colab": {}
      },
      "source": [
        "def get_epsilon_for_iteration(iteration):\n",
        "    if iteration<=1000000: \n",
        "        return 1-(iteration+1)*0.0000009\n",
        "    else:\n",
        "        return 0.1\n",
        "    \n",
        "    "
      ],
      "execution_count": 0,
      "outputs": []
    },
    {
      "cell_type": "code",
      "metadata": {
        "id": "yB7txk_vyPEk",
        "colab_type": "code",
        "colab": {}
      },
      "source": [
        "def choose_best_action(model,state):\n",
        "    l=[]\n",
        "    for i in range(possible_actions.shape[0]):\n",
        "        l.append(state)\n",
        "    Q_values=model.predict([l,possible_actions.tolist()])\n",
        "    choice=np.argmax(np.diagonal(Q_values))\n",
        "    action=possible_actions[choice].tolist()\n",
        "    return action\n",
        "    \n",
        "    "
      ],
      "execution_count": 0,
      "outputs": []
    },
    {
      "cell_type": "markdown",
      "metadata": {
        "id": "0UXwb4EOyPEm",
        "colab_type": "text"
      },
      "source": [
        "Let's start training"
      ]
    },
    {
      "cell_type": "code",
      "metadata": {
        "id": "voxB_ktfyPEm",
        "colab_type": "code",
        "colab": {}
      },
      "source": [
        "env=gym.make(\"Qbert-v0\")\n",
        "possible_actions=np.array(np.identity(env.action_space.n,dtype=float).tolist())\n"
      ],
      "execution_count": 0,
      "outputs": []
    },
    {
      "cell_type": "code",
      "metadata": {
        "id": "8bw3cpm4yPEo",
        "colab_type": "code",
        "colab": {}
      },
      "source": [
        "#define the hyperparmeters and parameters\n",
        "total_episodes=50000\n",
        "max_steps=10000000\n",
        "#for memory\n",
        "max_size=1000000\n",
        "pretrain_length=50000\n",
        "target_model_update=10000"
      ],
      "execution_count": 0,
      "outputs": []
    },
    {
      "cell_type": "code",
      "metadata": {
        "id": "f52vNbCNyPEq",
        "colab_type": "code",
        "colab": {}
      },
      "source": [
        "import os\n",
        "os.environ['TF_CPP_MIN_LOG_LEVEL'] = '3'\n",
        "'''\n",
        "0 = all messages are logged (default behavior)\n",
        "1 = INFO messages are not printed\n",
        "2 = INFO and WARNING messages are not printed\n",
        "3 = INFO, WARNING, and ERROR messages are not printed\n",
        "\n",
        "\n",
        "'''\n",
        "\n",
        "tf.compat.v1.logging.set_verbosity(tf.compat.v1.logging.ERROR)"
      ],
      "execution_count": 0,
      "outputs": []
    },
    {
      "cell_type": "code",
      "metadata": {
        "id": "dPjkj0D8yPEr",
        "colab_type": "code",
        "outputId": "71eb7b2d-0684-45d0-9fba-5f8482d711b6",
        "colab": {
          "base_uri": "https://localhost:8080/",
          "height": 608
        }
      },
      "source": [
        "my_dqn=atari_model(len(possible_actions))\n",
        "target_network=atari_model(len(possible_actions))\n",
        "stacked_frames  =  deque([np.zeros((105,80), dtype=np.int) for i in range(stack_size)], maxlen=4)\n",
        "memory=instantiate_memory(max_size,pretrain_length,possible_actions,stacked_frames)\n",
        "iteration=0\n",
        "for episode in range(total_episodes):\n",
        "    #set step to 0\n",
        "    step=0\n",
        "    #Initialize rewards of the episode\n",
        "    episode_rewards=[]\n",
        "    #for new epsiode, we observe the first state\n",
        "    state=env.reset()\n",
        "    state,stacked_frames=stack_frames(stacked_frames,state,True)\n",
        "    while step<max_steps:\n",
        "        #performs one q iteration and feed the new_state to state for the next q iteration\n",
        "        new_state, reward, is_done,stacked_frames=q_iteration(env,my_dqn,state,iteration,memory,stacked_frames,target_network)\n",
        "        state=new_state\n",
        "        episode_rewards.append(reward)\n",
        "        step+=1\n",
        "        iteration+=1\n",
        "        if iteration%target_model_update==0:\n",
        "          target_network=tf.keras.models.clone_model(my_dqn)\n",
        "          target_network.set_weights(my_dqn.get_weights())\n",
        "          print(\"target network updated\")\n",
        "        if is_done:\n",
        "            print(\"IS DONE--------------------------------------------\")\n",
        "            step=max_steps\n",
        "        \n",
        "            #if is_done , the episode is finished\n",
        "    print(\"Episode {}\".format(episode),\n",
        "                 \"Total reward: {}\".format(np.sum(episode_rewards))\n",
        "                 )\n",
        "print(\"done\")"
      ],
      "execution_count": 145,
      "outputs": [
        {
          "output_type": "stream",
          "text": [
            "IS DONE--------------------------------------------\n",
            "Episode 0 Total reward: 125.0\n",
            "IS DONE--------------------------------------------\n",
            "Episode 1 Total reward: 300.0\n",
            "IS DONE--------------------------------------------\n",
            "Episode 2 Total reward: 50.0\n",
            "IS DONE--------------------------------------------\n",
            "Episode 3 Total reward: 75.0\n",
            "IS DONE--------------------------------------------\n",
            "Episode 4 Total reward: 125.0\n"
          ],
          "name": "stdout"
        },
        {
          "output_type": "error",
          "ename": "KeyboardInterrupt",
          "evalue": "ignored",
          "traceback": [
            "\u001b[0;31m---------------------------------------------------------------------------\u001b[0m",
            "\u001b[0;31mKeyboardInterrupt\u001b[0m                         Traceback (most recent call last)",
            "\u001b[0;32m<ipython-input-145-dd3ab494a51b>\u001b[0m in \u001b[0;36m<module>\u001b[0;34m()\u001b[0m\n\u001b[1;32m     14\u001b[0m     \u001b[0;32mwhile\u001b[0m \u001b[0mstep\u001b[0m\u001b[0;34m<\u001b[0m\u001b[0mmax_steps\u001b[0m\u001b[0;34m:\u001b[0m\u001b[0;34m\u001b[0m\u001b[0;34m\u001b[0m\u001b[0m\n\u001b[1;32m     15\u001b[0m         \u001b[0;31m#performs one q iteration and feed the new_state to state for the next q iteration\u001b[0m\u001b[0;34m\u001b[0m\u001b[0;34m\u001b[0m\u001b[0;34m\u001b[0m\u001b[0m\n\u001b[0;32m---> 16\u001b[0;31m         \u001b[0mnew_state\u001b[0m\u001b[0;34m,\u001b[0m \u001b[0mreward\u001b[0m\u001b[0;34m,\u001b[0m \u001b[0mis_done\u001b[0m\u001b[0;34m,\u001b[0m\u001b[0mstacked_frames\u001b[0m\u001b[0;34m=\u001b[0m\u001b[0mq_iteration\u001b[0m\u001b[0;34m(\u001b[0m\u001b[0menv\u001b[0m\u001b[0;34m,\u001b[0m\u001b[0mmy_dqn\u001b[0m\u001b[0;34m,\u001b[0m\u001b[0mstate\u001b[0m\u001b[0;34m,\u001b[0m\u001b[0miteration\u001b[0m\u001b[0;34m,\u001b[0m\u001b[0mmemory\u001b[0m\u001b[0;34m,\u001b[0m\u001b[0mstacked_frames\u001b[0m\u001b[0;34m,\u001b[0m\u001b[0mtarget_network\u001b[0m\u001b[0;34m)\u001b[0m\u001b[0;34m\u001b[0m\u001b[0;34m\u001b[0m\u001b[0m\n\u001b[0m\u001b[1;32m     17\u001b[0m         \u001b[0mstate\u001b[0m\u001b[0;34m=\u001b[0m\u001b[0mnew_state\u001b[0m\u001b[0;34m\u001b[0m\u001b[0;34m\u001b[0m\u001b[0m\n\u001b[1;32m     18\u001b[0m         \u001b[0mepisode_rewards\u001b[0m\u001b[0;34m.\u001b[0m\u001b[0mappend\u001b[0m\u001b[0;34m(\u001b[0m\u001b[0mreward\u001b[0m\u001b[0;34m)\u001b[0m\u001b[0;34m\u001b[0m\u001b[0;34m\u001b[0m\u001b[0m\n",
            "\u001b[0;32m<ipython-input-137-51bf6dd548da>\u001b[0m in \u001b[0;36mq_iteration\u001b[0;34m(env, model, state, iteration, memory, stacked_frames, target_model)\u001b[0m\n\u001b[1;32m     26\u001b[0m     \u001b[0;31m#we have to unzip\u001b[0m\u001b[0;34m\u001b[0m\u001b[0;34m\u001b[0m\u001b[0;34m\u001b[0m\u001b[0m\n\u001b[1;32m     27\u001b[0m     \u001b[0mstate_\u001b[0m\u001b[0;34m,\u001b[0m \u001b[0maction_\u001b[0m\u001b[0;34m,\u001b[0m \u001b[0mreward_\u001b[0m\u001b[0;34m,\u001b[0m \u001b[0mnext_state_\u001b[0m \u001b[0;34m,\u001b[0m \u001b[0mis_done_\u001b[0m\u001b[0;34m=\u001b[0m \u001b[0mtuple\u001b[0m\u001b[0;34m(\u001b[0m\u001b[0mzip\u001b[0m\u001b[0;34m(\u001b[0m\u001b[0;34m*\u001b[0m\u001b[0mbatch\u001b[0m\u001b[0;34m)\u001b[0m\u001b[0;34m)\u001b[0m\u001b[0;34m\u001b[0m\u001b[0;34m\u001b[0m\u001b[0m\n\u001b[0;32m---> 28\u001b[0;31m     \u001b[0mfit_batch\u001b[0m\u001b[0;34m(\u001b[0m\u001b[0mmodel\u001b[0m\u001b[0;34m,\u001b[0m\u001b[0mgamma\u001b[0m\u001b[0;34m,\u001b[0m\u001b[0mstate_\u001b[0m\u001b[0;34m,\u001b[0m\u001b[0maction_\u001b[0m\u001b[0;34m,\u001b[0m\u001b[0mreward_\u001b[0m\u001b[0;34m,\u001b[0m\u001b[0mnext_state_\u001b[0m\u001b[0;34m,\u001b[0m\u001b[0mis_done_\u001b[0m\u001b[0;34m,\u001b[0m\u001b[0mtarget_model\u001b[0m\u001b[0;34m)\u001b[0m\u001b[0;34m\u001b[0m\u001b[0;34m\u001b[0m\u001b[0m\n\u001b[0m\u001b[1;32m     29\u001b[0m \u001b[0;34m\u001b[0m\u001b[0m\n\u001b[1;32m     30\u001b[0m     \u001b[0;32mreturn\u001b[0m \u001b[0mnew_state\u001b[0m\u001b[0;34m,\u001b[0m \u001b[0mreward\u001b[0m \u001b[0;34m,\u001b[0m\u001b[0mis_done\u001b[0m \u001b[0;34m,\u001b[0m \u001b[0mstacked_frames\u001b[0m\u001b[0;34m\u001b[0m\u001b[0;34m\u001b[0m\u001b[0m\n",
            "\u001b[0;32m<ipython-input-135-b8c40f935021>\u001b[0m in \u001b[0;36mfit_batch\u001b[0;34m(model, gamma, start_states, actions, rewards, next_states, is_terminal, target_model)\u001b[0m\n\u001b[1;32m     34\u001b[0m     \u001b[0;31m# we perform a gradient descent step on (y-Q)^2, Q being the output of our current Q network\u001b[0m\u001b[0;34m\u001b[0m\u001b[0;34m\u001b[0m\u001b[0;34m\u001b[0m\u001b[0m\n\u001b[1;32m     35\u001b[0m     \u001b[0;31m#multiply target by action to only consider the actions we chose, since in the algo the chosen action\u001b[0m\u001b[0;34m\u001b[0m\u001b[0;34m\u001b[0m\u001b[0;34m\u001b[0m\u001b[0m\n\u001b[0;32m---> 36\u001b[0;31m     \u001b[0mmodel\u001b[0m\u001b[0;34m.\u001b[0m\u001b[0mfit\u001b[0m\u001b[0;34m(\u001b[0m\u001b[0;34m[\u001b[0m\u001b[0mstart_states\u001b[0m\u001b[0;34m,\u001b[0m\u001b[0mactions_one_hot\u001b[0m\u001b[0;34m]\u001b[0m\u001b[0;34m,\u001b[0m\u001b[0mactions_one_hot\u001b[0m\u001b[0;34m*\u001b[0m\u001b[0mQ_values\u001b[0m\u001b[0;34m[\u001b[0m\u001b[0;34m:\u001b[0m\u001b[0;34m,\u001b[0m\u001b[0;32mNone\u001b[0m\u001b[0;34m]\u001b[0m\u001b[0;34m,\u001b[0m \u001b[0mepochs\u001b[0m\u001b[0;34m=\u001b[0m\u001b[0;36m1\u001b[0m\u001b[0;34m,\u001b[0m \u001b[0mbatch_size\u001b[0m\u001b[0;34m=\u001b[0m\u001b[0mlen\u001b[0m\u001b[0;34m(\u001b[0m\u001b[0mstart_states\u001b[0m\u001b[0;34m)\u001b[0m\u001b[0;34m,\u001b[0m\u001b[0mverbose\u001b[0m\u001b[0;34m=\u001b[0m\u001b[0;36m0\u001b[0m\u001b[0;34m)\u001b[0m\u001b[0;34m\u001b[0m\u001b[0;34m\u001b[0m\u001b[0m\n\u001b[0m\u001b[1;32m     37\u001b[0m \u001b[0;34m\u001b[0m\u001b[0m\n\u001b[1;32m     38\u001b[0m     \u001b[0;31m#Since the input only has a size of len(start_states), this fit function only does one step.\u001b[0m\u001b[0;34m\u001b[0m\u001b[0;34m\u001b[0m\u001b[0;34m\u001b[0m\u001b[0m\n",
            "\u001b[0;32m/tensorflow-2.0.0/python3.6/tensorflow_core/python/keras/engine/training.py\u001b[0m in \u001b[0;36mfit\u001b[0;34m(self, x, y, batch_size, epochs, verbose, callbacks, validation_split, validation_data, shuffle, class_weight, sample_weight, initial_epoch, steps_per_epoch, validation_steps, validation_freq, max_queue_size, workers, use_multiprocessing, **kwargs)\u001b[0m\n\u001b[1;32m    726\u001b[0m         \u001b[0mmax_queue_size\u001b[0m\u001b[0;34m=\u001b[0m\u001b[0mmax_queue_size\u001b[0m\u001b[0;34m,\u001b[0m\u001b[0;34m\u001b[0m\u001b[0;34m\u001b[0m\u001b[0m\n\u001b[1;32m    727\u001b[0m         \u001b[0mworkers\u001b[0m\u001b[0;34m=\u001b[0m\u001b[0mworkers\u001b[0m\u001b[0;34m,\u001b[0m\u001b[0;34m\u001b[0m\u001b[0;34m\u001b[0m\u001b[0m\n\u001b[0;32m--> 728\u001b[0;31m         use_multiprocessing=use_multiprocessing)\n\u001b[0m\u001b[1;32m    729\u001b[0m \u001b[0;34m\u001b[0m\u001b[0m\n\u001b[1;32m    730\u001b[0m   def evaluate(self,\n",
            "\u001b[0;32m/tensorflow-2.0.0/python3.6/tensorflow_core/python/keras/engine/training_arrays.py\u001b[0m in \u001b[0;36mfit\u001b[0;34m(self, model, x, y, batch_size, epochs, verbose, callbacks, validation_split, validation_data, shuffle, class_weight, sample_weight, initial_epoch, steps_per_epoch, validation_steps, validation_freq, **kwargs)\u001b[0m\n\u001b[1;32m    672\u001b[0m         \u001b[0mvalidation_steps\u001b[0m\u001b[0;34m=\u001b[0m\u001b[0mvalidation_steps\u001b[0m\u001b[0;34m,\u001b[0m\u001b[0;34m\u001b[0m\u001b[0;34m\u001b[0m\u001b[0m\n\u001b[1;32m    673\u001b[0m         \u001b[0mvalidation_freq\u001b[0m\u001b[0;34m=\u001b[0m\u001b[0mvalidation_freq\u001b[0m\u001b[0;34m,\u001b[0m\u001b[0;34m\u001b[0m\u001b[0;34m\u001b[0m\u001b[0m\n\u001b[0;32m--> 674\u001b[0;31m         steps_name='steps_per_epoch')\n\u001b[0m\u001b[1;32m    675\u001b[0m \u001b[0;34m\u001b[0m\u001b[0m\n\u001b[1;32m    676\u001b[0m   def evaluate(self,\n",
            "\u001b[0;32m/tensorflow-2.0.0/python3.6/tensorflow_core/python/keras/engine/training_arrays.py\u001b[0m in \u001b[0;36mmodel_iteration\u001b[0;34m(model, inputs, targets, sample_weights, batch_size, epochs, verbose, callbacks, val_inputs, val_targets, val_sample_weights, shuffle, initial_epoch, steps_per_epoch, validation_steps, validation_freq, mode, validation_in_fit, prepared_feed_values_from_dataset, steps_name, **kwargs)\u001b[0m\n\u001b[1;32m    402\u001b[0m         \u001b[0;31m# Callbacks batch end.\u001b[0m\u001b[0;34m\u001b[0m\u001b[0;34m\u001b[0m\u001b[0;34m\u001b[0m\u001b[0m\n\u001b[1;32m    403\u001b[0m         \u001b[0mbatch_logs\u001b[0m \u001b[0;34m=\u001b[0m \u001b[0mcbks\u001b[0m\u001b[0;34m.\u001b[0m\u001b[0mmake_logs\u001b[0m\u001b[0;34m(\u001b[0m\u001b[0mmodel\u001b[0m\u001b[0;34m,\u001b[0m \u001b[0mbatch_logs\u001b[0m\u001b[0;34m,\u001b[0m \u001b[0mbatch_outs\u001b[0m\u001b[0;34m,\u001b[0m \u001b[0mmode\u001b[0m\u001b[0;34m)\u001b[0m\u001b[0;34m\u001b[0m\u001b[0;34m\u001b[0m\u001b[0m\n\u001b[0;32m--> 404\u001b[0;31m         \u001b[0mcallbacks\u001b[0m\u001b[0;34m.\u001b[0m\u001b[0m_call_batch_hook\u001b[0m\u001b[0;34m(\u001b[0m\u001b[0mmode\u001b[0m\u001b[0;34m,\u001b[0m \u001b[0;34m'end'\u001b[0m\u001b[0;34m,\u001b[0m \u001b[0mbatch_index\u001b[0m\u001b[0;34m,\u001b[0m \u001b[0mbatch_logs\u001b[0m\u001b[0;34m)\u001b[0m\u001b[0;34m\u001b[0m\u001b[0;34m\u001b[0m\u001b[0m\n\u001b[0m\u001b[1;32m    405\u001b[0m         \u001b[0mprogbar\u001b[0m\u001b[0;34m.\u001b[0m\u001b[0mon_batch_end\u001b[0m\u001b[0;34m(\u001b[0m\u001b[0mbatch_index\u001b[0m\u001b[0;34m,\u001b[0m \u001b[0mbatch_logs\u001b[0m\u001b[0;34m)\u001b[0m\u001b[0;34m\u001b[0m\u001b[0;34m\u001b[0m\u001b[0m\n\u001b[1;32m    406\u001b[0m \u001b[0;34m\u001b[0m\u001b[0m\n",
            "\u001b[0;32m/tensorflow-2.0.0/python3.6/tensorflow_core/python/keras/callbacks.py\u001b[0m in \u001b[0;36m_call_batch_hook\u001b[0;34m(self, mode, hook, batch, logs)\u001b[0m\n\u001b[1;32m    236\u001b[0m     \u001b[0mself\u001b[0m\u001b[0;34m.\u001b[0m\u001b[0m_delta_ts\u001b[0m\u001b[0;34m[\u001b[0m\u001b[0mhook_name\u001b[0m\u001b[0;34m]\u001b[0m\u001b[0;34m.\u001b[0m\u001b[0mappend\u001b[0m\u001b[0;34m(\u001b[0m\u001b[0mtime\u001b[0m\u001b[0;34m.\u001b[0m\u001b[0mtime\u001b[0m\u001b[0;34m(\u001b[0m\u001b[0;34m)\u001b[0m \u001b[0;34m-\u001b[0m \u001b[0mt_before_callbacks\u001b[0m\u001b[0;34m)\u001b[0m\u001b[0;34m\u001b[0m\u001b[0;34m\u001b[0m\u001b[0m\n\u001b[1;32m    237\u001b[0m \u001b[0;34m\u001b[0m\u001b[0m\n\u001b[0;32m--> 238\u001b[0;31m     \u001b[0mdelta_t_median\u001b[0m \u001b[0;34m=\u001b[0m \u001b[0mnp\u001b[0m\u001b[0;34m.\u001b[0m\u001b[0mmedian\u001b[0m\u001b[0;34m(\u001b[0m\u001b[0mself\u001b[0m\u001b[0;34m.\u001b[0m\u001b[0m_delta_ts\u001b[0m\u001b[0;34m[\u001b[0m\u001b[0mhook_name\u001b[0m\u001b[0;34m]\u001b[0m\u001b[0;34m)\u001b[0m\u001b[0;34m\u001b[0m\u001b[0;34m\u001b[0m\u001b[0m\n\u001b[0m\u001b[1;32m    239\u001b[0m     if (self._delta_t_batch > 0. and\n\u001b[1;32m    240\u001b[0m         delta_t_median > 0.95 * self._delta_t_batch and delta_t_median > 0.1):\n",
            "\u001b[0;32m<__array_function__ internals>\u001b[0m in \u001b[0;36mmedian\u001b[0;34m(*args, **kwargs)\u001b[0m\n",
            "\u001b[0;32m/usr/local/lib/python3.6/dist-packages/numpy/lib/function_base.py\u001b[0m in \u001b[0;36mmedian\u001b[0;34m(a, axis, out, overwrite_input, keepdims)\u001b[0m\n\u001b[1;32m   3500\u001b[0m     \"\"\"\n\u001b[1;32m   3501\u001b[0m     r, k = _ureduce(a, func=_median, axis=axis, out=out,\n\u001b[0;32m-> 3502\u001b[0;31m                     overwrite_input=overwrite_input)\n\u001b[0m\u001b[1;32m   3503\u001b[0m     \u001b[0;32mif\u001b[0m \u001b[0mkeepdims\u001b[0m\u001b[0;34m:\u001b[0m\u001b[0;34m\u001b[0m\u001b[0;34m\u001b[0m\u001b[0m\n\u001b[1;32m   3504\u001b[0m         \u001b[0;32mreturn\u001b[0m \u001b[0mr\u001b[0m\u001b[0;34m.\u001b[0m\u001b[0mreshape\u001b[0m\u001b[0;34m(\u001b[0m\u001b[0mk\u001b[0m\u001b[0;34m)\u001b[0m\u001b[0;34m\u001b[0m\u001b[0;34m\u001b[0m\u001b[0m\n",
            "\u001b[0;32m/usr/local/lib/python3.6/dist-packages/numpy/lib/function_base.py\u001b[0m in \u001b[0;36m_ureduce\u001b[0;34m(a, func, **kwargs)\u001b[0m\n\u001b[1;32m   3408\u001b[0m         \u001b[0mkeepdim\u001b[0m \u001b[0;34m=\u001b[0m \u001b[0;34m(\u001b[0m\u001b[0;36m1\u001b[0m\u001b[0;34m,\u001b[0m\u001b[0;34m)\u001b[0m \u001b[0;34m*\u001b[0m \u001b[0ma\u001b[0m\u001b[0;34m.\u001b[0m\u001b[0mndim\u001b[0m\u001b[0;34m\u001b[0m\u001b[0;34m\u001b[0m\u001b[0m\n\u001b[1;32m   3409\u001b[0m \u001b[0;34m\u001b[0m\u001b[0m\n\u001b[0;32m-> 3410\u001b[0;31m     \u001b[0mr\u001b[0m \u001b[0;34m=\u001b[0m \u001b[0mfunc\u001b[0m\u001b[0;34m(\u001b[0m\u001b[0ma\u001b[0m\u001b[0;34m,\u001b[0m \u001b[0;34m**\u001b[0m\u001b[0mkwargs\u001b[0m\u001b[0;34m)\u001b[0m\u001b[0;34m\u001b[0m\u001b[0;34m\u001b[0m\u001b[0m\n\u001b[0m\u001b[1;32m   3411\u001b[0m     \u001b[0;32mreturn\u001b[0m \u001b[0mr\u001b[0m\u001b[0;34m,\u001b[0m \u001b[0mkeepdim\u001b[0m\u001b[0;34m\u001b[0m\u001b[0;34m\u001b[0m\u001b[0m\n\u001b[1;32m   3412\u001b[0m \u001b[0;34m\u001b[0m\u001b[0m\n",
            "\u001b[0;32m/usr/local/lib/python3.6/dist-packages/numpy/lib/function_base.py\u001b[0m in \u001b[0;36m_median\u001b[0;34m(a, axis, out, overwrite_input)\u001b[0m\n\u001b[1;32m   3553\u001b[0m     \u001b[0;32mif\u001b[0m \u001b[0mnp\u001b[0m\u001b[0;34m.\u001b[0m\u001b[0missubdtype\u001b[0m\u001b[0;34m(\u001b[0m\u001b[0ma\u001b[0m\u001b[0;34m.\u001b[0m\u001b[0mdtype\u001b[0m\u001b[0;34m,\u001b[0m \u001b[0mnp\u001b[0m\u001b[0;34m.\u001b[0m\u001b[0minexact\u001b[0m\u001b[0;34m)\u001b[0m \u001b[0;32mand\u001b[0m \u001b[0msz\u001b[0m \u001b[0;34m>\u001b[0m \u001b[0;36m0\u001b[0m\u001b[0;34m:\u001b[0m\u001b[0;34m\u001b[0m\u001b[0;34m\u001b[0m\u001b[0m\n\u001b[1;32m   3554\u001b[0m         \u001b[0;31m# warn and return nans like mean would\u001b[0m\u001b[0;34m\u001b[0m\u001b[0;34m\u001b[0m\u001b[0;34m\u001b[0m\u001b[0m\n\u001b[0;32m-> 3555\u001b[0;31m         \u001b[0mrout\u001b[0m \u001b[0;34m=\u001b[0m \u001b[0mmean\u001b[0m\u001b[0;34m(\u001b[0m\u001b[0mpart\u001b[0m\u001b[0;34m[\u001b[0m\u001b[0mindexer\u001b[0m\u001b[0;34m]\u001b[0m\u001b[0;34m,\u001b[0m \u001b[0maxis\u001b[0m\u001b[0;34m=\u001b[0m\u001b[0maxis\u001b[0m\u001b[0;34m,\u001b[0m \u001b[0mout\u001b[0m\u001b[0;34m=\u001b[0m\u001b[0mout\u001b[0m\u001b[0;34m)\u001b[0m\u001b[0;34m\u001b[0m\u001b[0;34m\u001b[0m\u001b[0m\n\u001b[0m\u001b[1;32m   3556\u001b[0m         \u001b[0;32mreturn\u001b[0m \u001b[0mnp\u001b[0m\u001b[0;34m.\u001b[0m\u001b[0mlib\u001b[0m\u001b[0;34m.\u001b[0m\u001b[0mutils\u001b[0m\u001b[0;34m.\u001b[0m\u001b[0m_median_nancheck\u001b[0m\u001b[0;34m(\u001b[0m\u001b[0mpart\u001b[0m\u001b[0;34m,\u001b[0m \u001b[0mrout\u001b[0m\u001b[0;34m,\u001b[0m \u001b[0maxis\u001b[0m\u001b[0;34m,\u001b[0m \u001b[0mout\u001b[0m\u001b[0;34m)\u001b[0m\u001b[0;34m\u001b[0m\u001b[0;34m\u001b[0m\u001b[0m\n\u001b[1;32m   3557\u001b[0m     \u001b[0;32melse\u001b[0m\u001b[0;34m:\u001b[0m\u001b[0;34m\u001b[0m\u001b[0;34m\u001b[0m\u001b[0m\n",
            "\u001b[0;32m<__array_function__ internals>\u001b[0m in \u001b[0;36mmean\u001b[0;34m(*args, **kwargs)\u001b[0m\n",
            "\u001b[0;32m/usr/local/lib/python3.6/dist-packages/numpy/core/fromnumeric.py\u001b[0m in \u001b[0;36mmean\u001b[0;34m(a, axis, dtype, out, keepdims)\u001b[0m\n\u001b[1;32m   3244\u001b[0m     \"\"\"\n\u001b[1;32m   3245\u001b[0m     \u001b[0mkwargs\u001b[0m \u001b[0;34m=\u001b[0m \u001b[0;34m{\u001b[0m\u001b[0;34m}\u001b[0m\u001b[0;34m\u001b[0m\u001b[0;34m\u001b[0m\u001b[0m\n\u001b[0;32m-> 3246\u001b[0;31m     \u001b[0;32mif\u001b[0m \u001b[0mkeepdims\u001b[0m \u001b[0;32mis\u001b[0m \u001b[0;32mnot\u001b[0m \u001b[0mnp\u001b[0m\u001b[0;34m.\u001b[0m\u001b[0m_NoValue\u001b[0m\u001b[0;34m:\u001b[0m\u001b[0;34m\u001b[0m\u001b[0;34m\u001b[0m\u001b[0m\n\u001b[0m\u001b[1;32m   3247\u001b[0m         \u001b[0mkwargs\u001b[0m\u001b[0;34m[\u001b[0m\u001b[0;34m'keepdims'\u001b[0m\u001b[0;34m]\u001b[0m \u001b[0;34m=\u001b[0m \u001b[0mkeepdims\u001b[0m\u001b[0;34m\u001b[0m\u001b[0;34m\u001b[0m\u001b[0m\n\u001b[1;32m   3248\u001b[0m     \u001b[0;32mif\u001b[0m \u001b[0mtype\u001b[0m\u001b[0;34m(\u001b[0m\u001b[0ma\u001b[0m\u001b[0;34m)\u001b[0m \u001b[0;32mis\u001b[0m \u001b[0;32mnot\u001b[0m \u001b[0mmu\u001b[0m\u001b[0;34m.\u001b[0m\u001b[0mndarray\u001b[0m\u001b[0;34m:\u001b[0m\u001b[0;34m\u001b[0m\u001b[0;34m\u001b[0m\u001b[0m\n",
            "\u001b[0;31mKeyboardInterrupt\u001b[0m: "
          ]
        }
      ]
    },
    {
      "cell_type": "code",
      "metadata": {
        "id": "ZT-31xoJCGM_",
        "colab_type": "code",
        "colab": {}
      },
      "source": [
        "my_dqn.save('dqn_rnn.h5') \n",
        "from google.colab import files\n",
        "files.download('dqn_rnn.h5')"
      ],
      "execution_count": 0,
      "outputs": []
    },
    {
      "cell_type": "code",
      "metadata": {
        "id": "hCvVg8qEoTNo",
        "colab_type": "code",
        "colab": {}
      },
      "source": [
        ""
      ],
      "execution_count": 0,
      "outputs": []
    }
  ]
}